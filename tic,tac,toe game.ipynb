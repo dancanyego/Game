{
 "cells": [
  {
   "cell_type": "code",
   "execution_count": null,
   "id": "29ca5805",
   "metadata": {},
   "outputs": [],
   "source": [
    "# displaying data\n",
    "\n",
    "def display(row1,row2,row3):\n",
    "    print(row1)\n",
    "    print(row2)\n",
    "    print(row3)\n",
    "\n",
    "    "
   ]
  },
  {
   "cell_type": "code",
   "execution_count": null,
   "id": "615011dd",
   "metadata": {},
   "outputs": [],
   "source": [
    "row1 = [' ',' ',' ']\n",
    "row2 = [' ',' ',' ']\n",
    "row3 = [' ',' ',' ']"
   ]
  },
  {
   "cell_type": "code",
   "execution_count": null,
   "id": "7eb3481f",
   "metadata": {},
   "outputs": [],
   "source": [
    "row1[2] = 'O'"
   ]
  },
  {
   "cell_type": "code",
   "execution_count": null,
   "id": "21c93a13",
   "metadata": {},
   "outputs": [],
   "source": [
    "display(row1,row2,row3)"
   ]
  },
  {
   "cell_type": "code",
   "execution_count": null,
   "id": "bc844e06",
   "metadata": {},
   "outputs": [],
   "source": []
  },
  {
   "cell_type": "code",
   "execution_count": null,
   "id": "70b3a0be",
   "metadata": {},
   "outputs": [],
   "source": [
    "# Accepting the User Input"
   ]
  },
  {
   "cell_type": "code",
   "execution_count": null,
   "id": "6f03d134",
   "metadata": {},
   "outputs": [],
   "source": [
    "result = input('Plese enter a value ::')"
   ]
  },
  {
   "cell_type": "code",
   "execution_count": null,
   "id": "60c5ac44",
   "metadata": {},
   "outputs": [],
   "source": [
    "position_index = int(input(\"Please Input yout move::\"))\n",
    "row3[position_index] = 'O'\n",
    "display(row1,row2,row3)"
   ]
  },
  {
   "cell_type": "markdown",
   "id": "981253e8",
   "metadata": {},
   "source": [
    "#handling user input error without using try and catch method on the user input \n",
    "\n",
    "def user_choice():\n",
    "    expected_range = range(0,10)\n",
    "    while True:\n",
    "        choice = input(\"Enter A number between 0 - 10 ::> \")\n",
    "        if choice.isdigit() == True :\n",
    "            break\n",
    "        elif choice in expected_range == False:\n",
    "            print(\"Not in Range\")\n",
    "        else:\n",
    "            print(\"Invalid Input!!Enter a fucking valid  number \")\n",
    "    print(f'The Choice entered is >> {choice}  and now {choice} is a fuckin digit')\n",
    "        \n",
    "user_choice()"
   ]
  },
  {
   "cell_type": "code",
   "execution_count": null,
   "id": "75736d4b",
   "metadata": {},
   "outputs": [],
   "source": []
  },
  {
   "cell_type": "code",
   "execution_count": null,
   "id": "b4f79a9c",
   "metadata": {},
   "outputs": [],
   "source": [
    "# handling on the range of specific values\n",
    "\n",
    "result = 'Wrong Value'\n",
    "acceptable = [1,2,3]\n",
    "\n",
    "result in acceptable \n",
    "result != acceptable"
   ]
  },
  {
   "cell_type": "code",
   "execution_count": null,
   "id": "3eda575a",
   "metadata": {},
   "outputs": [],
   "source": [
    "# Another Method "
   ]
  },
  {
   "cell_type": "code",
   "execution_count": 8,
   "id": "e6e95cda",
   "metadata": {},
   "outputs": [],
   "source": [
    "def user_choicee():\n",
    "    choice = 'WRONG'\n",
    "    acceptable_range = range(0,10)\n",
    "    within_range = False\n",
    "    \n",
    "    while choice.isdigit() == False or within_range == False:\n",
    "        choice = input(\"Enter a Number Between 0 - 10 \")\n",
    "        \n",
    "        if choice.isdigit()== False:\n",
    "            print(\"Invalid Digit!! Please Try Again\")\n",
    "            \n",
    "        if choice.isdigit()== True:\n",
    "            if int(choice) in acceptable_range:\n",
    "                within_range= True\n",
    "            else:\n",
    "                print(\"Number Not In Valid Range Try Again!!\")\n",
    "                within_range = False\n",
    "                \n",
    "    print(f'The Number {choice} is within the valid range ')\n"
   ]
  },
  {
   "cell_type": "code",
   "execution_count": 9,
   "id": "1096b622",
   "metadata": {},
   "outputs": [
    {
     "name": "stdout",
     "output_type": "stream",
     "text": [
      "Enter a Number Between 0 - 10 44\n",
      "Number Not In Valid Range Try Again!!\n",
      "Enter a Number Between 0 - 10 55\n",
      "Number Not In Valid Range Try Again!!\n",
      "Enter a Number Between 0 - 10 rr\n",
      "Invalid Digit!! Please Try Again\n",
      "Enter a Number Between 0 - 10 4\n",
      "The Number 4 is within the valid range \n"
     ]
    },
    {
     "data": {
      "text/plain": [
       "4"
      ]
     },
     "execution_count": 9,
     "metadata": {},
     "output_type": "execute_result"
    }
   ],
   "source": [
    "user_choicee()"
   ]
  },
  {
   "cell_type": "code",
   "execution_count": null,
   "id": "1293499a",
   "metadata": {},
   "outputs": [],
   "source": []
  },
  {
   "cell_type": "code",
   "execution_count": 1,
   "id": "450690a6",
   "metadata": {},
   "outputs": [],
   "source": [
    "# Displying game list\n",
    "\n",
    "game_list =[0,1,2]\n",
    "\n",
    "def display_game(game_list):\n",
    "    print(\"Here is the current List\")\n",
    "    print(game_list)"
   ]
  },
  {
   "cell_type": "code",
   "execution_count": 2,
   "id": "66c44950",
   "metadata": {},
   "outputs": [
    {
     "name": "stdout",
     "output_type": "stream",
     "text": [
      "Here is the current List\n",
      "[0, 1, 2]\n"
     ]
    }
   ],
   "source": [
    "display_game(game_list)"
   ]
  },
  {
   "cell_type": "code",
   "execution_count": 3,
   "id": "feba9da2",
   "metadata": {},
   "outputs": [],
   "source": [
    "def position_choice():\n",
    "\n",
    "    choice = 'WRONG'\n",
    "\n",
    "    while choice not in ['0','1','2']:\n",
    "\n",
    "        choice = input(\"Pick a Position (0,1,2) : \")\n",
    "\n",
    "        if choice not in ['0','1','2']:\n",
    "            print(\"Sorry Invalid Choice:\")\n",
    "\n",
    "    return int(choice)"
   ]
  },
  {
   "cell_type": "code",
   "execution_count": 4,
   "id": "c5ae9c4d",
   "metadata": {},
   "outputs": [
    {
     "name": "stdout",
     "output_type": "stream",
     "text": [
      "Sorry Invalid Choice:\n",
      "Sorry Invalid Choice:\n",
      "Sorry Invalid Choice:\n",
      "Sorry Invalid Choice:\n",
      "Sorry Invalid Choice:\n"
     ]
    },
    {
     "data": {
      "text/plain": [
       "1"
      ]
     },
     "execution_count": 4,
     "metadata": {},
     "output_type": "execute_result"
    }
   ],
   "source": [
    "position_choice()"
   ]
  },
  {
   "cell_type": "code",
   "execution_count": 6,
   "id": "e770ea42",
   "metadata": {},
   "outputs": [
    {
     "data": {
      "text/plain": [
       "[0, 'test', 2]"
      ]
     },
     "execution_count": 6,
     "metadata": {},
     "output_type": "execute_result"
    }
   ],
   "source": [
    "# Choose a replacement value\n",
    "\n",
    "def replacement_choice(game_list, position):\n",
    "\n",
    "    user_placement = input(\"Type a String to place at a Position\")\n",
    "\n",
    "    game_list[position] = user_placement\n",
    "\n",
    "    return game_list\n",
    "\n"
   ]
  },
  {
   "cell_type": "code",
   "execution_count": null,
   "id": "993ed977",
   "metadata": {},
   "outputs": [],
   "source": [
    "replacement_choice(game_list,position = 1)"
   ]
  },
  {
   "cell_type": "code",
   "execution_count": 10,
   "id": "13bbf409",
   "metadata": {},
   "outputs": [
    {
     "name": "stdout",
     "output_type": "stream",
     "text": [
      "Thank you for your time::\n"
     ]
    },
    {
     "data": {
      "text/plain": [
       "False"
      ]
     },
     "execution_count": 10,
     "metadata": {},
     "output_type": "execute_result"
    }
   ],
   "source": [
    "# Defining game on choice\n",
    "\n",
    "def gameon_choice():\n",
    "\n",
    "    choice = 'wrong'\n",
    "\n",
    "    while choice not in ['Y','N']:\n",
    "\n",
    "        choice = input(\"Do you want to continue playing (Y, N) : \")\n",
    "\n",
    "        if choice not in ['Y','N']:\n",
    "            print(\"Sorry Invalid Choice: Try Again \")\n",
    "\n",
    "    if choice == 'Y':\n",
    "        return True \n",
    "    else:\n",
    "        print(\"Thank you for your time::\")\n",
    "        return False\n",
    "        \n",
    "\n",
    "    return int(choice)\n",
    "gameon_choice()"
   ]
  },
  {
   "cell_type": "code",
   "execution_count": 11,
   "id": "06a15e05",
   "metadata": {},
   "outputs": [
    {
     "name": "stdout",
     "output_type": "stream",
     "text": [
      "Here is the current List\n",
      "[0, 1, 2]\n",
      "Sorry Invalid Choice:\n",
      "Here is the current List\n",
      "[0, 1, 'O']\n",
      "Here is the current List\n",
      "[0, 1, 'O']\n",
      "Here is the current List\n",
      "['NEW', 1, 'O']\n",
      "Thank you for your time::\n"
     ]
    }
   ],
   "source": [
    "game_on = True\n",
    "game_list = [0,1,2]\n",
    "\n",
    "while game_on:\n",
    "\n",
    "    display_game(game_list)\n",
    "\n",
    "    position = position_choice()\n",
    "\n",
    "    game_list = replacement_choice(game_list ,position)\n",
    "\n",
    "    display_game(game_list)\n",
    "\n",
    "    game_on = gameon_choice()"
   ]
  }
 ],
 "metadata": {
  "kernelspec": {
   "display_name": "Python 3 (ipykernel)",
   "language": "python",
   "name": "python3"
  },
  "language_info": {
   "codemirror_mode": {
    "name": "ipython",
    "version": 3
   },
   "file_extension": ".py",
   "mimetype": "text/x-python",
   "name": "python",
   "nbconvert_exporter": "python",
   "pygments_lexer": "ipython3",
   "version": "3.9.13"
  }
 },
 "nbformat": 4,
 "nbformat_minor": 5
}
